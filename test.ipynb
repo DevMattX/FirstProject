{
  "nbformat": 4,
  "nbformat_minor": 0,
  "metadata": {
    "colab": {
      "provenance": [],
      "authorship_tag": "ABX9TyO3ichghJVRRcWxNNrUrnO8",
      "include_colab_link": true
    },
    "kernelspec": {
      "name": "python3",
      "display_name": "Python 3"
    },
    "language_info": {
      "name": "python"
    }
  },
  "cells": [
    {
      "cell_type": "markdown",
      "metadata": {
        "id": "view-in-github",
        "colab_type": "text"
      },
      "source": [
        "<a href=\"https://colab.research.google.com/github/DevMattX/FirstProject/blob/main/test.ipynb\" target=\"_parent\"><img src=\"https://colab.research.google.com/assets/colab-badge.svg\" alt=\"Open In Colab\"/></a>"
      ]
    },
    {
      "cell_type": "code",
      "execution_count": null,
      "metadata": {
        "id": "49U6hJ-dOK3k",
        "colab": {
          "base_uri": "https://localhost:8080/"
        },
        "outputId": "d058b567-b51f-41cb-aac1-7e00e3346b12"
      },
      "outputs": [
        {
          "output_type": "stream",
          "name": "stdout",
          "text": [
            "Welcome to Monmouth Python Projects\n"
          ]
        }
      ],
      "source": [
        "print(\"Welcome to Monmouth Python Projects\")"
      ]
    }
  ]
}